{
 "cells": [
  {
   "cell_type": "code",
   "execution_count": 1,
   "metadata": {
    "id": "vJtGEjt2PC4H"
   },
   "outputs": [],
   "source": [
    "# All package imports\n",
    "import pandas as pd\n",
    "import numpy as np\n",
    "import seaborn as sns\n",
    "from scipy.stats import randint\n",
    "import matplotlib.pyplot as plt\n",
    "from io import StringIO\n",
    "from sklearn.feature_extraction.text import TfidfVectorizer\n",
    "from sklearn.feature_extraction.text import TfidfTransformer\n",
    "from sklearn.model_selection import train_test_split\n",
    "from sklearn.feature_extraction.text import TfidfTransformer\n",
    "from sklearn.naive_bayes import MultinomialNB\n",
    "from sklearn.linear_model import LogisticRegression\n",
    "from sklearn.ensemble import RandomForestClassifier\n",
    "from sklearn.svm import LinearSVC\n",
    "from sklearn.model_selection import cross_val_score\n",
    "from sklearn.metrics import confusion_matrix\n",
    "from sklearn import metrics\n",
    "import xgboost as xgb"
   ]
  },
  {
   "cell_type": "code",
   "execution_count": 2,
   "metadata": {
    "id": "2tZQB0swMAs0"
   },
   "outputs": [],
   "source": [
    "#loading that dataset as a pandas dataframe\n",
    "data = pd.read_csv('D:\\\\consumercomplaints.csv')"
   ]
  },
  {
   "cell_type": "code",
   "execution_count": 3,
   "metadata": {
    "colab": {
     "base_uri": "https://localhost:8080/"
    },
    "id": "1JLDMSmpy7ID",
    "outputId": "5774cebd-5f90-4857-b4b4-063c3d857da7"
   },
   "outputs": [
    {
     "data": {
      "text/plain": [
       "(3101969, 7)"
      ]
     },
     "execution_count": 3,
     "metadata": {},
     "output_type": "execute_result"
    }
   ],
   "source": [
    "data.shape"
   ]
  },
  {
   "cell_type": "code",
   "execution_count": 4,
   "metadata": {
    "colab": {
     "base_uri": "https://localhost:8080/",
     "height": 269
    },
    "id": "l79fTE7NMg-W",
    "outputId": "7d069b3e-3495-43c3-f938-d50ffff02a0e"
   },
   "outputs": [
    {
     "data": {
      "text/html": [
       "<div>\n",
       "<style scoped>\n",
       "    .dataframe tbody tr th:only-of-type {\n",
       "        vertical-align: middle;\n",
       "    }\n",
       "\n",
       "    .dataframe tbody tr th {\n",
       "        vertical-align: top;\n",
       "    }\n",
       "\n",
       "    .dataframe thead th {\n",
       "        text-align: right;\n",
       "    }\n",
       "</style>\n",
       "<table border=\"1\" class=\"dataframe\">\n",
       "  <thead>\n",
       "    <tr style=\"text-align: right;\">\n",
       "      <th></th>\n",
       "      <th>0</th>\n",
       "      <th>1</th>\n",
       "    </tr>\n",
       "  </thead>\n",
       "  <tbody>\n",
       "    <tr>\n",
       "      <th>Unnamed: 0</th>\n",
       "      <td>0</td>\n",
       "      <td>1</td>\n",
       "    </tr>\n",
       "    <tr>\n",
       "      <th>Date received</th>\n",
       "      <td>2022-11-11</td>\n",
       "      <td>2022-11-23</td>\n",
       "    </tr>\n",
       "    <tr>\n",
       "      <th>Product</th>\n",
       "      <td>Mortgage</td>\n",
       "      <td>Credit reporting, credit repair services, or o...</td>\n",
       "    </tr>\n",
       "    <tr>\n",
       "      <th>Sub-product</th>\n",
       "      <td>Conventional home mortgage</td>\n",
       "      <td>Credit reporting</td>\n",
       "    </tr>\n",
       "    <tr>\n",
       "      <th>Issue</th>\n",
       "      <td>Trouble during payment process</td>\n",
       "      <td>Improper use of your report</td>\n",
       "    </tr>\n",
       "    <tr>\n",
       "      <th>Sub-issue</th>\n",
       "      <td>NaN</td>\n",
       "      <td>Reporting company used your report improperly</td>\n",
       "    </tr>\n",
       "    <tr>\n",
       "      <th>Consumer complaint narrative</th>\n",
       "      <td>NaN</td>\n",
       "      <td>NaN</td>\n",
       "    </tr>\n",
       "  </tbody>\n",
       "</table>\n",
       "</div>"
      ],
      "text/plain": [
       "                                                           0  \\\n",
       "Unnamed: 0                                                 0   \n",
       "Date received                                     2022-11-11   \n",
       "Product                                             Mortgage   \n",
       "Sub-product                       Conventional home mortgage   \n",
       "Issue                         Trouble during payment process   \n",
       "Sub-issue                                                NaN   \n",
       "Consumer complaint narrative                             NaN   \n",
       "\n",
       "                                                                              1  \n",
       "Unnamed: 0                                                                    1  \n",
       "Date received                                                        2022-11-23  \n",
       "Product                       Credit reporting, credit repair services, or o...  \n",
       "Sub-product                                                    Credit reporting  \n",
       "Issue                                               Improper use of your report  \n",
       "Sub-issue                         Reporting company used your report improperly  \n",
       "Consumer complaint narrative                                                NaN  "
      ]
     },
     "execution_count": 4,
     "metadata": {},
     "output_type": "execute_result"
    }
   ],
   "source": [
    "#display first few rows of data\n",
    "data.head(2).T"
   ]
  },
  {
   "cell_type": "code",
   "execution_count": 5,
   "metadata": {
    "id": "X9aJWh14Q6Mr"
   },
   "outputs": [],
   "source": [
    "#The dataset contains only two vital columns that are important to use in perform the classification of user complaints. This columns are Product and Consumer complaint narrative columns\n",
    "#Creating a new dataframe that contains only those two features\n",
    "\n",
    "new_data = data[[\"Consumer complaint narrative\", \"Product\"]].copy()\n",
    "new_data.columns = [\"consumer_complaints\", \"product\"] #renaming columns"
   ]
  },
  {
   "cell_type": "code",
   "execution_count": 6,
   "metadata": {
    "colab": {
     "base_uri": "https://localhost:8080/",
     "height": 424
    },
    "id": "Ud1DxLorTCt6",
    "outputId": "8da2f7ba-10ee-4c34-c361-7d4a843ec64d"
   },
   "outputs": [
    {
     "data": {
      "text/html": [
       "<div>\n",
       "<style scoped>\n",
       "    .dataframe tbody tr th:only-of-type {\n",
       "        vertical-align: middle;\n",
       "    }\n",
       "\n",
       "    .dataframe tbody tr th {\n",
       "        vertical-align: top;\n",
       "    }\n",
       "\n",
       "    .dataframe thead th {\n",
       "        text-align: right;\n",
       "    }\n",
       "</style>\n",
       "<table border=\"1\" class=\"dataframe\">\n",
       "  <thead>\n",
       "    <tr style=\"text-align: right;\">\n",
       "      <th></th>\n",
       "      <th>consumer_complaints</th>\n",
       "      <th>product</th>\n",
       "    </tr>\n",
       "  </thead>\n",
       "  <tbody>\n",
       "    <tr>\n",
       "      <th>0</th>\n",
       "      <td>NaN</td>\n",
       "      <td>Mortgage</td>\n",
       "    </tr>\n",
       "    <tr>\n",
       "      <th>1</th>\n",
       "      <td>NaN</td>\n",
       "      <td>Credit reporting, credit repair services, or o...</td>\n",
       "    </tr>\n",
       "    <tr>\n",
       "      <th>2</th>\n",
       "      <td>NaN</td>\n",
       "      <td>Mortgage</td>\n",
       "    </tr>\n",
       "    <tr>\n",
       "      <th>3</th>\n",
       "      <td>Hi, I have been banking with Wells Fargo for o...</td>\n",
       "      <td>Checking or savings account</td>\n",
       "    </tr>\n",
       "    <tr>\n",
       "      <th>4</th>\n",
       "      <td>NaN</td>\n",
       "      <td>Mortgage</td>\n",
       "    </tr>\n",
       "    <tr>\n",
       "      <th>...</th>\n",
       "      <td>...</td>\n",
       "      <td>...</td>\n",
       "    </tr>\n",
       "    <tr>\n",
       "      <th>3101964</th>\n",
       "      <td>I have disputed my debts several times with no...</td>\n",
       "      <td>Debt collection</td>\n",
       "    </tr>\n",
       "    <tr>\n",
       "      <th>3101965</th>\n",
       "      <td>My father died in XX/XX/XXXX. Left me his only...</td>\n",
       "      <td>Mortgage</td>\n",
       "    </tr>\n",
       "    <tr>\n",
       "      <th>3101966</th>\n",
       "      <td>cfbp i would Like to file a complaint on Exper...</td>\n",
       "      <td>Credit reporting</td>\n",
       "    </tr>\n",
       "    <tr>\n",
       "      <th>3101967</th>\n",
       "      <td>My husband and I are in the middle of an FHA S...</td>\n",
       "      <td>Credit reporting</td>\n",
       "    </tr>\n",
       "    <tr>\n",
       "      <th>3101968</th>\n",
       "      <td>NaN</td>\n",
       "      <td>Mortgage</td>\n",
       "    </tr>\n",
       "  </tbody>\n",
       "</table>\n",
       "<p>3101969 rows × 2 columns</p>\n",
       "</div>"
      ],
      "text/plain": [
       "                                       consumer_complaints  \\\n",
       "0                                                      NaN   \n",
       "1                                                      NaN   \n",
       "2                                                      NaN   \n",
       "3        Hi, I have been banking with Wells Fargo for o...   \n",
       "4                                                      NaN   \n",
       "...                                                    ...   \n",
       "3101964  I have disputed my debts several times with no...   \n",
       "3101965  My father died in XX/XX/XXXX. Left me his only...   \n",
       "3101966  cfbp i would Like to file a complaint on Exper...   \n",
       "3101967  My husband and I are in the middle of an FHA S...   \n",
       "3101968                                                NaN   \n",
       "\n",
       "                                                   product  \n",
       "0                                                 Mortgage  \n",
       "1        Credit reporting, credit repair services, or o...  \n",
       "2                                                 Mortgage  \n",
       "3                              Checking or savings account  \n",
       "4                                                 Mortgage  \n",
       "...                                                    ...  \n",
       "3101964                                    Debt collection  \n",
       "3101965                                           Mortgage  \n",
       "3101966                                   Credit reporting  \n",
       "3101967                                   Credit reporting  \n",
       "3101968                                           Mortgage  \n",
       "\n",
       "[3101969 rows x 2 columns]"
      ]
     },
     "execution_count": 6,
     "metadata": {},
     "output_type": "execute_result"
    }
   ],
   "source": [
    "new_data"
   ]
  },
  {
   "cell_type": "code",
   "execution_count": 7,
   "metadata": {
    "colab": {
     "base_uri": "https://localhost:8080/"
    },
    "id": "iEc8q8jTTX0b",
    "outputId": "125d3567-df32-4d9e-81e8-a3db41c2ee0c"
   },
   "outputs": [
    {
     "name": "stdout",
     "output_type": "stream",
     "text": [
      "consumer_complaints    1987977\n",
      "product                      0\n",
      "dtype: int64\n"
     ]
    }
   ],
   "source": [
    "#find row with null values\n",
    "\n",
    "print(new_data.isnull().sum())"
   ]
  },
  {
   "cell_type": "code",
   "execution_count": 8,
   "metadata": {
    "colab": {
     "base_uri": "https://localhost:8080/"
    },
    "id": "7YQsRuqKnOtY",
    "outputId": "fccf0639-8f1e-4476-ae0e-370090c19596"
   },
   "outputs": [
    {
     "name": "stdout",
     "output_type": "stream",
     "text": [
      "<class 'pandas.core.frame.DataFrame'>\n",
      "Index: 1113992 entries, 3 to 3101967\n",
      "Data columns (total 2 columns):\n",
      " #   Column               Non-Null Count    Dtype \n",
      "---  ------               --------------    ----- \n",
      " 0   consumer_complaints  1113992 non-null  object\n",
      " 1   product              1113992 non-null  object\n",
      "dtypes: object(2)\n",
      "memory usage: 25.5+ MB\n"
     ]
    },
    {
     "data": {
      "text/plain": [
       "((1113992, 2), None)"
      ]
     },
     "execution_count": 8,
     "metadata": {},
     "output_type": "execute_result"
    }
   ],
   "source": [
    "#Removing missiong values (NAN)\n",
    "new_data = new_data[pd.notnull(new_data['consumer_complaints'])]\n",
    "\n",
    "#size of the dataset\n",
    "new_data.shape, new_data.info()"
   ]
  },
  {
   "cell_type": "code",
   "execution_count": 9,
   "metadata": {
    "colab": {
     "base_uri": "https://localhost:8080/",
     "height": 614
    },
    "id": "6J3UbgGiqNzW",
    "outputId": "ea1b0a76-056b-44c5-b186-7d03a6ce4087"
   },
   "outputs": [
    {
     "data": {
      "text/html": [
       "<div>\n",
       "<style scoped>\n",
       "    .dataframe tbody tr th:only-of-type {\n",
       "        vertical-align: middle;\n",
       "    }\n",
       "\n",
       "    .dataframe tbody tr th {\n",
       "        vertical-align: top;\n",
       "    }\n",
       "\n",
       "    .dataframe thead th {\n",
       "        text-align: right;\n",
       "    }\n",
       "</style>\n",
       "<table border=\"1\" class=\"dataframe\">\n",
       "  <thead>\n",
       "    <tr style=\"text-align: right;\">\n",
       "      <th></th>\n",
       "      <th>Unique Products</th>\n",
       "    </tr>\n",
       "  </thead>\n",
       "  <tbody>\n",
       "    <tr>\n",
       "      <th>0</th>\n",
       "      <td>Checking or savings account</td>\n",
       "    </tr>\n",
       "    <tr>\n",
       "      <th>1</th>\n",
       "      <td>Debt collection</td>\n",
       "    </tr>\n",
       "    <tr>\n",
       "      <th>2</th>\n",
       "      <td>Credit reporting, credit repair services, or o...</td>\n",
       "    </tr>\n",
       "    <tr>\n",
       "      <th>3</th>\n",
       "      <td>Mortgage</td>\n",
       "    </tr>\n",
       "    <tr>\n",
       "      <th>4</th>\n",
       "      <td>Credit card or prepaid card</td>\n",
       "    </tr>\n",
       "    <tr>\n",
       "      <th>5</th>\n",
       "      <td>Money transfer, virtual currency, or money ser...</td>\n",
       "    </tr>\n",
       "    <tr>\n",
       "      <th>6</th>\n",
       "      <td>Student loan</td>\n",
       "    </tr>\n",
       "    <tr>\n",
       "      <th>7</th>\n",
       "      <td>Vehicle loan or lease</td>\n",
       "    </tr>\n",
       "    <tr>\n",
       "      <th>8</th>\n",
       "      <td>Payday loan, title loan, or personal loan</td>\n",
       "    </tr>\n",
       "    <tr>\n",
       "      <th>9</th>\n",
       "      <td>Bank account or service</td>\n",
       "    </tr>\n",
       "    <tr>\n",
       "      <th>10</th>\n",
       "      <td>Credit card</td>\n",
       "    </tr>\n",
       "    <tr>\n",
       "      <th>11</th>\n",
       "      <td>Consumer Loan</td>\n",
       "    </tr>\n",
       "    <tr>\n",
       "      <th>12</th>\n",
       "      <td>Credit reporting</td>\n",
       "    </tr>\n",
       "    <tr>\n",
       "      <th>13</th>\n",
       "      <td>Prepaid card</td>\n",
       "    </tr>\n",
       "    <tr>\n",
       "      <th>14</th>\n",
       "      <td>Money transfers</td>\n",
       "    </tr>\n",
       "    <tr>\n",
       "      <th>15</th>\n",
       "      <td>Payday loan</td>\n",
       "    </tr>\n",
       "    <tr>\n",
       "      <th>16</th>\n",
       "      <td>Other financial service</td>\n",
       "    </tr>\n",
       "    <tr>\n",
       "      <th>17</th>\n",
       "      <td>Virtual currency</td>\n",
       "    </tr>\n",
       "  </tbody>\n",
       "</table>\n",
       "</div>"
      ],
      "text/plain": [
       "                                      Unique Products\n",
       "0                         Checking or savings account\n",
       "1                                     Debt collection\n",
       "2   Credit reporting, credit repair services, or o...\n",
       "3                                            Mortgage\n",
       "4                         Credit card or prepaid card\n",
       "5   Money transfer, virtual currency, or money ser...\n",
       "6                                        Student loan\n",
       "7                               Vehicle loan or lease\n",
       "8           Payday loan, title loan, or personal loan\n",
       "9                             Bank account or service\n",
       "10                                        Credit card\n",
       "11                                      Consumer Loan\n",
       "12                                   Credit reporting\n",
       "13                                       Prepaid card\n",
       "14                                    Money transfers\n",
       "15                                        Payday loan\n",
       "16                            Other financial service\n",
       "17                                   Virtual currency"
      ]
     },
     "execution_count": 9,
     "metadata": {},
     "output_type": "execute_result"
    }
   ],
   "source": [
    "#Lets look into the unique values in our label\n",
    "pd.DataFrame(new_data['product'].unique(), columns=[\"Unique Products\"])"
   ]
  },
  {
   "cell_type": "markdown",
   "metadata": {
    "id": "7QwJXD6z6usz"
   },
   "source": [
    "From the unique products we can see that we have 18 unique products but then it is observer that some are contained in others e.g(credit card, prepaid card, Credit card or prepaid card). Not taking care of this will affect our model performance"
   ]
  },
  {
   "cell_type": "code",
   "execution_count": 10,
   "metadata": {
    "colab": {
     "base_uri": "https://localhost:8080/"
    },
    "id": "P-N3IZpYo1h6",
    "outputId": "ac7a1480-db55-4890-9f43-27ca80e55d84"
   },
   "outputs": [
    {
     "name": "stdout",
     "output_type": "stream",
     "text": [
      "The size of the dataset is (1113992, 2)\n"
     ]
    }
   ],
   "source": [
    "print(f\"The size of the dataset is {new_data.shape}\")\n",
    "\n",
    "# due to the large amount of data and its implication on compute power, we will be sampling the data to only 500000 rows\n",
    "sample_data = new_data.sample(10000, random_state=5).copy()"
   ]
  },
  {
   "cell_type": "code",
   "execution_count": 11,
   "metadata": {
    "colab": {
     "base_uri": "https://localhost:8080/"
    },
    "id": "DgLomTrRsAn3",
    "outputId": "d2d6f834-68e8-450d-f045-303e739baa79"
   },
   "outputs": [
    {
     "data": {
      "text/plain": [
       "(10000, 2)"
      ]
     },
     "execution_count": 11,
     "metadata": {},
     "output_type": "execute_result"
    }
   ],
   "source": [
    "sample_data.shape"
   ]
  },
  {
   "cell_type": "code",
   "execution_count": 12,
   "metadata": {
    "id": "pUVdxg-jrTRK"
   },
   "outputs": [],
   "source": [
    "sample_data.replace({\n",
    "    'product':\n",
    "             {'Credit reporting, credit repair services, or other personal consumer reports':\n",
    "              'Credit reporting, repair, or other',\n",
    "              'Credit reporting': 'Credit reporting, repair, or other',\n",
    "             'Credit card': 'Credit card or prepaid card',\n",
    "             'Prepaid card': 'Credit card or prepaid card',\n",
    "             'Payday loan': 'Payday loan, title loan, or personal loan',\n",
    "             'Money transfer': 'Money transfer, virtual currency, or money service',\n",
    "             'Virtual currency': 'Money transfer, virtual currency, or money service'}\n",
    "    },\n",
    "            inplace= True)\n"
   ]
  },
  {
   "cell_type": "code",
   "execution_count": 13,
   "metadata": {
    "colab": {
     "base_uri": "https://localhost:8080/",
     "height": 457
    },
    "id": "mk0qy_F-rV6x",
    "outputId": "9fc1dde8-6b29-4812-b454-c06c06ad5864"
   },
   "outputs": [
    {
     "data": {
      "text/html": [
       "<div>\n",
       "<style scoped>\n",
       "    .dataframe tbody tr th:only-of-type {\n",
       "        vertical-align: middle;\n",
       "    }\n",
       "\n",
       "    .dataframe tbody tr th {\n",
       "        vertical-align: top;\n",
       "    }\n",
       "\n",
       "    .dataframe thead th {\n",
       "        text-align: right;\n",
       "    }\n",
       "</style>\n",
       "<table border=\"1\" class=\"dataframe\">\n",
       "  <thead>\n",
       "    <tr style=\"text-align: right;\">\n",
       "      <th></th>\n",
       "      <th>Unique Products</th>\n",
       "    </tr>\n",
       "  </thead>\n",
       "  <tbody>\n",
       "    <tr>\n",
       "      <th>0</th>\n",
       "      <td>Credit reporting, repair, or other</td>\n",
       "    </tr>\n",
       "    <tr>\n",
       "      <th>1</th>\n",
       "      <td>Mortgage</td>\n",
       "    </tr>\n",
       "    <tr>\n",
       "      <th>2</th>\n",
       "      <td>Debt collection</td>\n",
       "    </tr>\n",
       "    <tr>\n",
       "      <th>3</th>\n",
       "      <td>Credit card or prepaid card</td>\n",
       "    </tr>\n",
       "    <tr>\n",
       "      <th>4</th>\n",
       "      <td>Checking or savings account</td>\n",
       "    </tr>\n",
       "    <tr>\n",
       "      <th>5</th>\n",
       "      <td>Payday loan, title loan, or personal loan</td>\n",
       "    </tr>\n",
       "    <tr>\n",
       "      <th>6</th>\n",
       "      <td>Money transfer, virtual currency, or money ser...</td>\n",
       "    </tr>\n",
       "    <tr>\n",
       "      <th>7</th>\n",
       "      <td>Consumer Loan</td>\n",
       "    </tr>\n",
       "    <tr>\n",
       "      <th>8</th>\n",
       "      <td>Student loan</td>\n",
       "    </tr>\n",
       "    <tr>\n",
       "      <th>9</th>\n",
       "      <td>Bank account or service</td>\n",
       "    </tr>\n",
       "    <tr>\n",
       "      <th>10</th>\n",
       "      <td>Vehicle loan or lease</td>\n",
       "    </tr>\n",
       "    <tr>\n",
       "      <th>11</th>\n",
       "      <td>Money transfers</td>\n",
       "    </tr>\n",
       "    <tr>\n",
       "      <th>12</th>\n",
       "      <td>Other financial service</td>\n",
       "    </tr>\n",
       "  </tbody>\n",
       "</table>\n",
       "</div>"
      ],
      "text/plain": [
       "                                      Unique Products\n",
       "0                  Credit reporting, repair, or other\n",
       "1                                            Mortgage\n",
       "2                                     Debt collection\n",
       "3                         Credit card or prepaid card\n",
       "4                         Checking or savings account\n",
       "5           Payday loan, title loan, or personal loan\n",
       "6   Money transfer, virtual currency, or money ser...\n",
       "7                                       Consumer Loan\n",
       "8                                        Student loan\n",
       "9                             Bank account or service\n",
       "10                              Vehicle loan or lease\n",
       "11                                    Money transfers\n",
       "12                            Other financial service"
      ]
     },
     "execution_count": 13,
     "metadata": {},
     "output_type": "execute_result"
    }
   ],
   "source": [
    "pd.DataFrame(sample_data['product'].unique(), columns=[\"Unique Products\"])"
   ]
  },
  {
   "cell_type": "code",
   "execution_count": 14,
   "metadata": {
    "id": "MbTdh-Zl8Qw4"
   },
   "outputs": [],
   "source": [
    "sample_data[\"category_id\"] = sample_data['product'].factorize()[0]"
   ]
  },
  {
   "cell_type": "code",
   "execution_count": 15,
   "metadata": {
    "colab": {
     "base_uri": "https://localhost:8080/",
     "height": 206
    },
    "id": "rPkk1ZNOBjFF",
    "outputId": "2fa38ecf-84a2-4afa-93a0-33a8d03f01b5"
   },
   "outputs": [
    {
     "data": {
      "text/html": [
       "<div>\n",
       "<style scoped>\n",
       "    .dataframe tbody tr th:only-of-type {\n",
       "        vertical-align: middle;\n",
       "    }\n",
       "\n",
       "    .dataframe tbody tr th {\n",
       "        vertical-align: top;\n",
       "    }\n",
       "\n",
       "    .dataframe thead th {\n",
       "        text-align: right;\n",
       "    }\n",
       "</style>\n",
       "<table border=\"1\" class=\"dataframe\">\n",
       "  <thead>\n",
       "    <tr style=\"text-align: right;\">\n",
       "      <th></th>\n",
       "      <th>consumer_complaints</th>\n",
       "      <th>product</th>\n",
       "      <th>category_id</th>\n",
       "    </tr>\n",
       "  </thead>\n",
       "  <tbody>\n",
       "    <tr>\n",
       "      <th>540928</th>\n",
       "      <td>XXXX XXXX is trying to collect on behalf of XX...</td>\n",
       "      <td>Credit reporting, repair, or other</td>\n",
       "      <td>0</td>\n",
       "    </tr>\n",
       "    <tr>\n",
       "      <th>2581386</th>\n",
       "      <td>Letter of Deletion XXXX XXXX XXXX  XXXX XXXX X...</td>\n",
       "      <td>Credit reporting, repair, or other</td>\n",
       "      <td>0</td>\n",
       "    </tr>\n",
       "    <tr>\n",
       "      <th>2025396</th>\n",
       "      <td>My direct student loan accounts were in a defa...</td>\n",
       "      <td>Credit reporting, repair, or other</td>\n",
       "      <td>0</td>\n",
       "    </tr>\n",
       "    <tr>\n",
       "      <th>48706</th>\n",
       "      <td>I'm XXXX XXXX, and I need your help getting in...</td>\n",
       "      <td>Credit reporting, repair, or other</td>\n",
       "      <td>0</td>\n",
       "    </tr>\n",
       "    <tr>\n",
       "      <th>1431994</th>\n",
       "      <td>Bank of America ( \" BOA '' ) serviced our mort...</td>\n",
       "      <td>Credit reporting, repair, or other</td>\n",
       "      <td>0</td>\n",
       "    </tr>\n",
       "  </tbody>\n",
       "</table>\n",
       "</div>"
      ],
      "text/plain": [
       "                                       consumer_complaints  \\\n",
       "540928   XXXX XXXX is trying to collect on behalf of XX...   \n",
       "2581386  Letter of Deletion XXXX XXXX XXXX  XXXX XXXX X...   \n",
       "2025396  My direct student loan accounts were in a defa...   \n",
       "48706    I'm XXXX XXXX, and I need your help getting in...   \n",
       "1431994  Bank of America ( \" BOA '' ) serviced our mort...   \n",
       "\n",
       "                                    product  category_id  \n",
       "540928   Credit reporting, repair, or other            0  \n",
       "2581386  Credit reporting, repair, or other            0  \n",
       "2025396  Credit reporting, repair, or other            0  \n",
       "48706    Credit reporting, repair, or other            0  \n",
       "1431994  Credit reporting, repair, or other            0  "
      ]
     },
     "execution_count": 15,
     "metadata": {},
     "output_type": "execute_result"
    }
   ],
   "source": [
    "sample_data.head()"
   ]
  },
  {
   "cell_type": "code",
   "execution_count": 16,
   "metadata": {
    "colab": {
     "base_uri": "https://localhost:8080/",
     "height": 457
    },
    "id": "9v8yaBRGDc3z",
    "outputId": "901213eb-939f-44a2-f1fc-a75c5056d4e5"
   },
   "outputs": [
    {
     "data": {
      "text/html": [
       "<div>\n",
       "<style scoped>\n",
       "    .dataframe tbody tr th:only-of-type {\n",
       "        vertical-align: middle;\n",
       "    }\n",
       "\n",
       "    .dataframe tbody tr th {\n",
       "        vertical-align: top;\n",
       "    }\n",
       "\n",
       "    .dataframe thead th {\n",
       "        text-align: right;\n",
       "    }\n",
       "</style>\n",
       "<table border=\"1\" class=\"dataframe\">\n",
       "  <thead>\n",
       "    <tr style=\"text-align: right;\">\n",
       "      <th></th>\n",
       "      <th>product</th>\n",
       "      <th>category_id</th>\n",
       "    </tr>\n",
       "  </thead>\n",
       "  <tbody>\n",
       "    <tr>\n",
       "      <th>540928</th>\n",
       "      <td>Credit reporting, repair, or other</td>\n",
       "      <td>0</td>\n",
       "    </tr>\n",
       "    <tr>\n",
       "      <th>1613018</th>\n",
       "      <td>Mortgage</td>\n",
       "      <td>1</td>\n",
       "    </tr>\n",
       "    <tr>\n",
       "      <th>2694984</th>\n",
       "      <td>Debt collection</td>\n",
       "      <td>2</td>\n",
       "    </tr>\n",
       "    <tr>\n",
       "      <th>2494564</th>\n",
       "      <td>Credit card or prepaid card</td>\n",
       "      <td>3</td>\n",
       "    </tr>\n",
       "    <tr>\n",
       "      <th>1371890</th>\n",
       "      <td>Checking or savings account</td>\n",
       "      <td>4</td>\n",
       "    </tr>\n",
       "    <tr>\n",
       "      <th>932893</th>\n",
       "      <td>Payday loan, title loan, or personal loan</td>\n",
       "      <td>5</td>\n",
       "    </tr>\n",
       "    <tr>\n",
       "      <th>788416</th>\n",
       "      <td>Money transfer, virtual currency, or money ser...</td>\n",
       "      <td>6</td>\n",
       "    </tr>\n",
       "    <tr>\n",
       "      <th>2167803</th>\n",
       "      <td>Consumer Loan</td>\n",
       "      <td>7</td>\n",
       "    </tr>\n",
       "    <tr>\n",
       "      <th>204012</th>\n",
       "      <td>Student loan</td>\n",
       "      <td>8</td>\n",
       "    </tr>\n",
       "    <tr>\n",
       "      <th>1703680</th>\n",
       "      <td>Bank account or service</td>\n",
       "      <td>9</td>\n",
       "    </tr>\n",
       "    <tr>\n",
       "      <th>420030</th>\n",
       "      <td>Vehicle loan or lease</td>\n",
       "      <td>10</td>\n",
       "    </tr>\n",
       "    <tr>\n",
       "      <th>1992265</th>\n",
       "      <td>Money transfers</td>\n",
       "      <td>11</td>\n",
       "    </tr>\n",
       "    <tr>\n",
       "      <th>1211774</th>\n",
       "      <td>Other financial service</td>\n",
       "      <td>12</td>\n",
       "    </tr>\n",
       "  </tbody>\n",
       "</table>\n",
       "</div>"
      ],
      "text/plain": [
       "                                                   product  category_id\n",
       "540928                  Credit reporting, repair, or other            0\n",
       "1613018                                           Mortgage            1\n",
       "2694984                                    Debt collection            2\n",
       "2494564                        Credit card or prepaid card            3\n",
       "1371890                        Checking or savings account            4\n",
       "932893           Payday loan, title loan, or personal loan            5\n",
       "788416   Money transfer, virtual currency, or money ser...            6\n",
       "2167803                                      Consumer Loan            7\n",
       "204012                                        Student loan            8\n",
       "1703680                            Bank account or service            9\n",
       "420030                               Vehicle loan or lease           10\n",
       "1992265                                    Money transfers           11\n",
       "1211774                            Other financial service           12"
      ]
     },
     "execution_count": 16,
     "metadata": {},
     "output_type": "execute_result"
    }
   ],
   "source": [
    "##creating identifiers for our product matching its category id\n",
    "category_id_data = sample_data[['product','category_id']].drop_duplicates()\n",
    "\n",
    "category_id_data"
   ]
  },
  {
   "cell_type": "markdown",
   "metadata": {
    "id": "nHkyOx0kJT4B"
   },
   "source": [
    "We have excellently encoded the product to numerical values which will be used for prediction... Lets store this as key value pairs for later usage"
   ]
  },
  {
   "cell_type": "code",
   "execution_count": 17,
   "metadata": {
    "colab": {
     "base_uri": "https://localhost:8080/"
    },
    "id": "g1thCUXBI6ap",
    "outputId": "4f32a73f-ecfa-450b-a1f6-0b169d67294a"
   },
   "outputs": [
    {
     "data": {
      "text/plain": [
       "{'Credit reporting, repair, or other': 0,\n",
       " 'Mortgage': 1,\n",
       " 'Debt collection': 2,\n",
       " 'Credit card or prepaid card': 3,\n",
       " 'Checking or savings account': 4,\n",
       " 'Payday loan, title loan, or personal loan': 5,\n",
       " 'Money transfer, virtual currency, or money service': 6,\n",
       " 'Consumer Loan': 7,\n",
       " 'Student loan': 8,\n",
       " 'Bank account or service': 9,\n",
       " 'Vehicle loan or lease': 10,\n",
       " 'Money transfers': 11,\n",
       " 'Other financial service': 12}"
      ]
     },
     "execution_count": 17,
     "metadata": {},
     "output_type": "execute_result"
    }
   ],
   "source": [
    "category_to_id = dict(category_id_data.values)\n",
    "category_to_id"
   ]
  },
  {
   "cell_type": "code",
   "execution_count": 18,
   "metadata": {
    "colab": {
     "base_uri": "https://localhost:8080/"
    },
    "id": "SGWxsqqqJqBw",
    "outputId": "59254a58-bce5-476f-f4e4-759025f0138e"
   },
   "outputs": [
    {
     "data": {
      "text/plain": [
       "{0: 'Credit reporting, repair, or other',\n",
       " 1: 'Mortgage',\n",
       " 2: 'Debt collection',\n",
       " 3: 'Credit card or prepaid card',\n",
       " 4: 'Checking or savings account',\n",
       " 5: 'Payday loan, title loan, or personal loan',\n",
       " 6: 'Money transfer, virtual currency, or money service',\n",
       " 7: 'Consumer Loan',\n",
       " 8: 'Student loan',\n",
       " 9: 'Bank account or service',\n",
       " 10: 'Vehicle loan or lease',\n",
       " 11: 'Money transfers',\n",
       " 12: 'Other financial service'}"
      ]
     },
     "execution_count": 18,
     "metadata": {},
     "output_type": "execute_result"
    }
   ],
   "source": [
    "id_to_category = dict(category_id_data[['category_id','product']].values)\n",
    "id_to_category"
   ]
  },
  {
   "cell_type": "markdown",
   "metadata": {
    "id": "MVNtRLSYLypp"
   },
   "source": [
    "Lets sort the product based on the customer complaints received\n"
   ]
  },
  {
   "cell_type": "code",
   "execution_count": 19,
   "metadata": {
    "colab": {
     "base_uri": "https://localhost:8080/"
    },
    "id": "CzX3f5r8LEBR",
    "outputId": "aee4df2b-ed24-4c9f-e186-70f0c8e8eb7f"
   },
   "outputs": [
    {
     "data": {
      "text/plain": [
       "product\n",
       "Other financial service                                  1\n",
       "Money transfers                                         14\n",
       "Consumer Loan                                           83\n",
       "Payday loan, title loan, or personal loan              121\n",
       "Bank account or service                                125\n",
       "Vehicle loan or lease                                  180\n",
       "Money transfer, virtual currency, or money service     232\n",
       "Student loan                                           267\n",
       "Checking or savings account                            497\n",
       "Mortgage                                               900\n",
       "Credit card or prepaid card                            918\n",
       "Debt collection                                       1770\n",
       "Credit reporting, repair, or other                    4892\n",
       "Name: consumer_complaints, dtype: int64"
      ]
     },
     "execution_count": 19,
     "metadata": {},
     "output_type": "execute_result"
    }
   ],
   "source": [
    "sample_data.groupby('product')['consumer_complaints'].count().sort_values()"
   ]
  },
  {
   "cell_type": "code",
   "execution_count": 20,
   "metadata": {
    "colab": {
     "base_uri": "https://localhost:8080/",
     "height": 582
    },
    "id": "YZjsPSUMMd1I",
    "outputId": "9ef32c05-e308-44df-a09e-223be72fe62f"
   },
   "outputs": [
    {
     "data": {
      "text/plain": [
       "<Axes: title={'center': 'No Of Complaints In Each Product Category\\n'}, ylabel='product'>"
      ]
     },
     "execution_count": 20,
     "metadata": {},
     "output_type": "execute_result"
    },
    {
     "data": {
      "image/png": "[encoded data removed]",
      "text/plain": [
       "<Figure size 800x600 with 1 Axes>"
      ]
     },
     "metadata": {},
     "output_type": "display_data"
    }
   ],
   "source": [
    "fig = plt.figure(figsize=(8,6))\n",
    "\n",
    "\n",
    "# colors = ['grey','grey','grey','grey','grey','grey','grey','grey','grey',\n",
    "#     'grey','maroon','maroon','maroon']\n",
    "\n",
    "colors = [\"maroon\" if color >= 9 else \"grey\" for color in range(0,13) ]\n",
    "\n",
    "\n",
    "sample_data.groupby('product')['consumer_complaints'].count().sort_values().plot.barh(\n",
    "    ylim=0, color=colors, title= 'No Of Complaints In Each Product Category\\n')"
   ]
  },
  {
   "cell_type": "markdown",
   "metadata": {
    "id": "EQzzKYKxX_gC"
   },
   "source": [
    "# **Preprocessing Text with TF-IDF**\n",
    "TF-IDF stands for \"Term Frequency-Inverse Document Frequency.\" It is a numerical statistic used in information retrieval and text mining to evaluate the importance of a word in a document relative to a collection of documents (corpus). TF-IDF is based on the idea that the importance of a word increases proportionally to the number of times it appears in the document (term frequency), but is offset by the frequency of the word in the corpus (inverse document frequency), which helps to account for the fact that some words are generally more common across all documents.\n",
    "\n",
    "Here's a brief breakdown of TF-IDF components:\n",
    "\n",
    "1. **Term Frequency (TF)**: Measures the frequency of a term (word) within a document. It is calculated as the number of times a term appears in a document divided by the total number of terms in the document.\n",
    "\n",
    "   TF(t,d)=\n",
    "Total number of terms in document d /\n",
    "Number of times term t appears in document d\n",
    "​\n",
    "\n",
    "2. **Inverse Document Frequency (IDF)**: Measures the significance of a term across a collection of documents (corpus). It is calculated as the logarithm of the total number of documents divided by the number of documents containing the term, with the result inverted.\n",
    "\n",
    "   IDF(t,D)=log(\n",
    "Number of documents containing term t/\n",
    "Total number of documents in corpus D\n",
    "​\n",
    " )\n",
    "\n",
    "3. **TF-IDF**: Combines both TF and IDF to measure the importance of a term in a specific document relative to the entire corpus. It is calculated as the product of TF and IDF.\n",
    "\n",
    "   TF-IDF(t,d,D)=TF(t,d)×IDF(t,D)\n",
    "\n",
    "The TF-IDF model assigns higher weights to terms that are frequent within a document (TF) but rare across the corpus (IDF), thereby emphasizing terms that are both relevant and discriminative for characterizing the content of a document. TF-IDF is commonly used in various natural language processing tasks, such as text classification, document similarity, and information retrieval.\n",
    "\n",
    "TfidfVectorizer class can be initialized with the following parameters:\n",
    "\n",
    "**min_df**: remove the words from the vocabulary which have occurred in less than ‘min_df’ number of files.\n",
    "\n",
    "**max_df**: remove the words from the vocabulary which have occurred in more than _‘maxdf’ * total number of files in corpus.\n",
    "\n",
    "**sublinear_tf**: set to True to scale the term frequency in logarithmic scale.\n",
    "\n",
    "**stop_words**: remove the predefined stop words in 'english'.\n",
    "\n",
    "**use_idf**: weight factor must use inverse document frequency.\n",
    "\n",
    "**ngram_range**: (1, 2) to indicate that unigrams and bigrams will be considered."
   ]
  },
  {
   "cell_type": "code",
   "execution_count": 21,
   "metadata": {
    "id": "BAWJZ4rRYC49"
   },
   "outputs": [],
   "source": [
    "from sklearn.pipeline import Pipeline\n",
    "from sklearn.preprocessing import StandardScaler\n",
    "\n",
    "# Assuming X is your list of text documents\n",
    "# Create TF-IDF vectorizer\n",
    "tfidf = TfidfVectorizer(sublinear_tf=True, min_df=5,  ngram_range=(1,2), stop_words='english')\n",
    "\n",
    "# Create StandardScaler\n",
    "# scaler = StandardScaler(with_mean=False)\n",
    "\n",
    "# Combine TF-IDF vectorization and StandardScaler into a pipeline\n",
    "pipeline = Pipeline([\n",
    "    ('tfidf', tfidf)\n",
    "    # ('scaler', scaler)\n",
    "])\n",
    "\n",
    "# Fit and transform the data using the pipeline\n",
    "features = pipeline.fit_transform(sample_data['consumer_complaints']).toarray()\n",
    "\n"
   ]
  },
  {
   "cell_type": "code",
   "execution_count": 22,
   "metadata": {
    "id": "bB9wpe1AdFAM"
   },
   "outputs": [],
   "source": [
    "# features = tfidf.fit_transform(sample_data['consumer_complaints'][:]).toarray()"
   ]
  },
  {
   "cell_type": "code",
   "execution_count": 23,
   "metadata": {
    "colab": {
     "base_uri": "https://localhost:8080/"
    },
    "id": "F4BAM3UUuSYy",
    "outputId": "881249d4-03f0-4c84-c38f-4e7cdc31273a"
   },
   "outputs": [
    {
     "name": "stdout",
     "output_type": "stream",
     "text": [
      "Each of the 10000 complaints is represented by 26961 features (TF-IDF score of unigrams and bigrams)\n"
     ]
    }
   ],
   "source": [
    "#The cell above transformed the input data into a vector transform\n",
    "print(\"Each of the %d complaints is represented by %d features (TF-IDF score of unigrams and bigrams)\" %(features.shape))"
   ]
  },
  {
   "cell_type": "code",
   "execution_count": 24,
   "metadata": {
    "id": "C9XaAKI44QAu"
   },
   "outputs": [
    {
     "data": {
      "text/plain": [
       "array([[0.04071582, 0.        , 0.        , ..., 0.        , 0.        ,\n",
       "        0.        ],\n",
       "       [0.04594001, 0.        , 0.        , ..., 0.        , 0.        ,\n",
       "        0.        ],\n",
       "       [0.        , 0.        , 0.        , ..., 0.        , 0.        ,\n",
       "        0.        ],\n",
       "       [0.        , 0.        , 0.        , ..., 0.        , 0.        ,\n",
       "        0.        ],\n",
       "       [0.        , 0.        , 0.        , ..., 0.        , 0.        ,\n",
       "        0.        ]])"
      ]
     },
     "execution_count": 24,
     "metadata": {},
     "output_type": "execute_result"
    }
   ],
   "source": [
    "features[:5]"
   ]
  },
  {
   "cell_type": "code",
   "execution_count": 25,
   "metadata": {},
   "outputs": [],
   "source": [
    "labels = sample_data.category_id"
   ]
  },
  {
   "cell_type": "markdown",
   "metadata": {},
   "source": [
    "## Multi-Classification models\r\n",
    "The classification models evaluated are:\r",
    "- \n",
    "\r\n",
    "Random For\n",
    "- st\r\n",
    "Linear Support Vector Mac\n",
    "- ine\r\n",
    "Multinomial Naive B- ayes\r\n",
    "Logistic Regression."
   ]
  },
  {
   "cell_type": "code",
   "execution_count": 26,
   "metadata": {},
   "outputs": [],
   "source": [
    "#splitting into feature and target\n",
    "x = new_data[\"consumer_complaints\"]\n",
    "y = new_data[\"product\"]"
   ]
  },
  {
   "cell_type": "code",
   "execution_count": 27,
   "metadata": {},
   "outputs": [],
   "source": [
    "#splitting into train and test sets\n",
    "x_train, x_test, y_train, y_test = train_test_split(features, labels, test_size=0.25, random_state=0)"
   ]
  },
  {
   "cell_type": "code",
   "execution_count": 28,
   "metadata": {},
   "outputs": [],
   "source": [
    "#models to be trained\n",
    "models = [\n",
    "    # RandomForestClassifier(n_estimators=100, max_depth=5, random_state=0),\n",
    "    LinearSVC(),\n",
    "    MultinomialNB(),\n",
    "    LogisticRegression(random_state=0),\n",
    "]\n"
   ]
  },
  {
   "cell_type": "code",
   "execution_count": 29,
   "metadata": {},
   "outputs": [
    {
     "name": "stdout",
     "output_type": "stream",
     "text": [
      "Accuracy: 0.4956\n"
     ]
    }
   ],
   "source": [
    "rfc_model = RandomForestClassifier(n_estimators=100, max_depth=5, random_state=0)\n",
    "rfc_model.fit(x_train, y_train)\n",
    "accuracy = rfc_model.score(x_test, y_test)\n",
    "print(\"Accuracy:\", accuracy)"
   ]
  },
  {
   "cell_type": "code",
   "execution_count": 30,
   "metadata": {},
   "outputs": [
    {
     "name": "stdout",
     "output_type": "stream",
     "text": [
      "Accuracy: 0.4956\n"
     ]
    }
   ],
   "source": [
    "accuracy = rfc_model.score(x_test, y_test)\n",
    "print(\"Accuracy:\", accuracy)"
   ]
  },
  {
   "cell_type": "code",
   "execution_count": 31,
   "metadata": {
    "scrolled": true
   },
   "outputs": [
    {
     "name": "stderr",
     "output_type": "stream",
     "text": [
      "C:\\Users\\micah\\miniconda3\\envs\\mlenv\\Lib\\site-packages\\sklearn\\model_selection\\_split.py:725: UserWarning: The least populated class in y has only 1 members, which is less than n_splits=3.\n",
      "  warnings.warn(\n",
      "C:\\Users\\micah\\miniconda3\\envs\\mlenv\\Lib\\site-packages\\sklearn\\svm\\_classes.py:32: FutureWarning: The default value of `dual` will change from `True` to `'auto'` in 1.5. Set the value of `dual` explicitly to suppress the warning.\n",
      "  warnings.warn(\n",
      "C:\\Users\\micah\\miniconda3\\envs\\mlenv\\Lib\\site-packages\\sklearn\\svm\\_classes.py:32: FutureWarning: The default value of `dual` will change from `True` to `'auto'` in 1.5. Set the value of `dual` explicitly to suppress the warning.\n",
      "  warnings.warn(\n",
      "C:\\Users\\micah\\miniconda3\\envs\\mlenv\\Lib\\site-packages\\sklearn\\svm\\_classes.py:32: FutureWarning: The default value of `dual` will change from `True` to `'auto'` in 1.5. Set the value of `dual` explicitly to suppress the warning.\n",
      "  warnings.warn(\n",
      "C:\\Users\\micah\\miniconda3\\envs\\mlenv\\Lib\\site-packages\\sklearn\\model_selection\\_split.py:725: UserWarning: The least populated class in y has only 1 members, which is less than n_splits=3.\n",
      "  warnings.warn(\n",
      "C:\\Users\\micah\\miniconda3\\envs\\mlenv\\Lib\\site-packages\\sklearn\\model_selection\\_split.py:725: UserWarning: The least populated class in y has only 1 members, which is less than n_splits=3.\n",
      "  warnings.warn(\n",
      "C:\\Users\\micah\\miniconda3\\envs\\mlenv\\Lib\\site-packages\\sklearn\\linear_model\\_logistic.py:460: ConvergenceWarning: lbfgs failed to converge (status=1):\n",
      "STOP: TOTAL NO. of ITERATIONS REACHED LIMIT.\n",
      "\n",
      "Increase the number of iterations (max_iter) or scale the data as shown in:\n",
      "    https://scikit-learn.org/stable/modules/preprocessing.html\n",
      "Please also refer to the documentation for alternative solver options:\n",
      "    https://scikit-learn.org/stable/modules/linear_model.html#logistic-regression\n",
      "  n_iter_i = _check_optimize_result(\n",
      "C:\\Users\\micah\\miniconda3\\envs\\mlenv\\Lib\\site-packages\\sklearn\\linear_model\\_logistic.py:460: ConvergenceWarning: lbfgs failed to converge (status=1):\n",
      "STOP: TOTAL NO. of ITERATIONS REACHED LIMIT.\n",
      "\n",
      "Increase the number of iterations (max_iter) or scale the data as shown in:\n",
      "    https://scikit-learn.org/stable/modules/preprocessing.html\n",
      "Please also refer to the documentation for alternative solver options:\n",
      "    https://scikit-learn.org/stable/modules/linear_model.html#logistic-regression\n",
      "  n_iter_i = _check_optimize_result(\n",
      "C:\\Users\\micah\\miniconda3\\envs\\mlenv\\Lib\\site-packages\\sklearn\\linear_model\\_logistic.py:460: ConvergenceWarning: lbfgs failed to converge (status=1):\n",
      "STOP: TOTAL NO. of ITERATIONS REACHED LIMIT.\n",
      "\n",
      "Increase the number of iterations (max_iter) or scale the data as shown in:\n",
      "    https://scikit-learn.org/stable/modules/preprocessing.html\n",
      "Please also refer to the documentation for alternative solver options:\n",
      "    https://scikit-learn.org/stable/modules/linear_model.html#logistic-regression\n",
      "  n_iter_i = _check_optimize_result(\n"
     ]
    }
   ],
   "source": [
    "#performing crossvalidation, mostly aimed at improving models accuracy \n",
    "cv = 3\n",
    "entries = []\n",
    "\n",
    "for model in models:\n",
    "    model_name = model.__class__.__name__\n",
    "    accuracies = cross_val_score(model, features, labels, scoring=\"accuracy\", cv=cv)\n",
    "    for fold_idx, accuracy in enumerate(accuracies):\n",
    "        entries.append((model_name, fold_idx, accuracy))\n",
    "    \n",
    "cv_df = pd.DataFrame(entries, columns=['model_name', 'fold_idx', 'accuracy'])"
   ]
  },
  {
   "cell_type": "code",
   "execution_count": 32,
   "metadata": {},
   "outputs": [
    {
     "data": {
      "text/html": [
       "<div>\n",
       "<style scoped>\n",
       "    .dataframe tbody tr th:only-of-type {\n",
       "        vertical-align: middle;\n",
       "    }\n",
       "\n",
       "    .dataframe tbody tr th {\n",
       "        vertical-align: top;\n",
       "    }\n",
       "\n",
       "    .dataframe thead th {\n",
       "        text-align: right;\n",
       "    }\n",
       "</style>\n",
       "<table border=\"1\" class=\"dataframe\">\n",
       "  <thead>\n",
       "    <tr style=\"text-align: right;\">\n",
       "      <th></th>\n",
       "      <th>model_name</th>\n",
       "      <th>fold_idx</th>\n",
       "      <th>accuracy</th>\n",
       "    </tr>\n",
       "  </thead>\n",
       "  <tbody>\n",
       "    <tr>\n",
       "      <th>0</th>\n",
       "      <td>LinearSVC</td>\n",
       "      <td>0</td>\n",
       "      <td>0.804739</td>\n",
       "    </tr>\n",
       "    <tr>\n",
       "      <th>1</th>\n",
       "      <td>LinearSVC</td>\n",
       "      <td>1</td>\n",
       "      <td>0.804080</td>\n",
       "    </tr>\n",
       "    <tr>\n",
       "      <th>2</th>\n",
       "      <td>LinearSVC</td>\n",
       "      <td>2</td>\n",
       "      <td>0.813681</td>\n",
       "    </tr>\n",
       "    <tr>\n",
       "      <th>3</th>\n",
       "      <td>MultinomialNB</td>\n",
       "      <td>0</td>\n",
       "      <td>0.621176</td>\n",
       "    </tr>\n",
       "    <tr>\n",
       "      <th>4</th>\n",
       "      <td>MultinomialNB</td>\n",
       "      <td>1</td>\n",
       "      <td>0.625263</td>\n",
       "    </tr>\n",
       "    <tr>\n",
       "      <th>5</th>\n",
       "      <td>MultinomialNB</td>\n",
       "      <td>2</td>\n",
       "      <td>0.627363</td>\n",
       "    </tr>\n",
       "    <tr>\n",
       "      <th>6</th>\n",
       "      <td>LogisticRegression</td>\n",
       "      <td>0</td>\n",
       "      <td>0.784943</td>\n",
       "    </tr>\n",
       "    <tr>\n",
       "      <th>7</th>\n",
       "      <td>LogisticRegression</td>\n",
       "      <td>1</td>\n",
       "      <td>0.792379</td>\n",
       "    </tr>\n",
       "    <tr>\n",
       "      <th>8</th>\n",
       "      <td>LogisticRegression</td>\n",
       "      <td>2</td>\n",
       "      <td>0.789979</td>\n",
       "    </tr>\n",
       "  </tbody>\n",
       "</table>\n",
       "</div>"
      ],
      "text/plain": [
       "           model_name  fold_idx  accuracy\n",
       "0           LinearSVC         0  0.804739\n",
       "1           LinearSVC         1  0.804080\n",
       "2           LinearSVC         2  0.813681\n",
       "3       MultinomialNB         0  0.621176\n",
       "4       MultinomialNB         1  0.625263\n",
       "5       MultinomialNB         2  0.627363\n",
       "6  LogisticRegression         0  0.784943\n",
       "7  LogisticRegression         1  0.792379\n",
       "8  LogisticRegression         2  0.789979"
      ]
     },
     "execution_count": 32,
     "metadata": {},
     "output_type": "execute_result"
    }
   ],
   "source": [
    "cv_df"
   ]
  },
  {
   "cell_type": "code",
   "execution_count": 33,
   "metadata": {},
   "outputs": [],
   "source": [
    "mean_accuracy = cv_df.groupby('model_name').accuracy.mean()\n",
    "std_accuracy = cv_df.groupby('model_name').accuracy.std()\n",
    "\n",
    "comparison = pd.concat([mean_accuracy, std_accuracy], axis= 1, \n",
    "          ignore_index=True)\n",
    "comparison.columns = ['Mean Accuracy', 'Standard deviation']"
   ]
  },
  {
   "cell_type": "code",
   "execution_count": 34,
   "metadata": {},
   "outputs": [
    {
     "data": {
      "text/html": [
       "<div>\n",
       "<style scoped>\n",
       "    .dataframe tbody tr th:only-of-type {\n",
       "        vertical-align: middle;\n",
       "    }\n",
       "\n",
       "    .dataframe tbody tr th {\n",
       "        vertical-align: top;\n",
       "    }\n",
       "\n",
       "    .dataframe thead th {\n",
       "        text-align: right;\n",
       "    }\n",
       "</style>\n",
       "<table border=\"1\" class=\"dataframe\">\n",
       "  <thead>\n",
       "    <tr style=\"text-align: right;\">\n",
       "      <th></th>\n",
       "      <th>Mean Accuracy</th>\n",
       "      <th>Standard deviation</th>\n",
       "    </tr>\n",
       "    <tr>\n",
       "      <th>model_name</th>\n",
       "      <th></th>\n",
       "      <th></th>\n",
       "    </tr>\n",
       "  </thead>\n",
       "  <tbody>\n",
       "    <tr>\n",
       "      <th>LinearSVC</th>\n",
       "      <td>0.8075</td>\n",
       "      <td>0.005363</td>\n",
       "    </tr>\n",
       "    <tr>\n",
       "      <th>LogisticRegression</th>\n",
       "      <td>0.7891</td>\n",
       "      <td>0.003795</td>\n",
       "    </tr>\n",
       "    <tr>\n",
       "      <th>MultinomialNB</th>\n",
       "      <td>0.6246</td>\n",
       "      <td>0.003146</td>\n",
       "    </tr>\n",
       "  </tbody>\n",
       "</table>\n",
       "</div>"
      ],
      "text/plain": [
       "                    Mean Accuracy  Standard deviation\n",
       "model_name                                           \n",
       "LinearSVC                  0.8075            0.005363\n",
       "LogisticRegression         0.7891            0.003795\n",
       "MultinomialNB              0.6246            0.003146"
      ]
     },
     "execution_count": 34,
     "metadata": {},
     "output_type": "execute_result"
    }
   ],
   "source": [
    "comparison"
   ]
  },
  {
   "cell_type": "code",
   "execution_count": 35,
   "metadata": {},
   "outputs": [
    {
     "data": {
      "image/png": "[encoded data removed]",
      "text/plain": [
       "<Figure size 800x500 with 1 Axes>"
      ]
     },
     "metadata": {},
     "output_type": "display_data"
    }
   ],
   "source": [
    "plt.figure(figsize=(8,5))\n",
    "sns.boxplot(x='model_name', y='accuracy', \n",
    "            data=cv_df, \n",
    "            color='lightblue', \n",
    "            showmeans=True)\n",
    "plt.title(\"MEAN ACCURACY (cv = 5)\\n\", size=14);"
   ]
  },
  {
   "cell_type": "markdown",
   "metadata": {},
   "source": [
    "From the list of models we have trained on it can be seen that the LinearSVC model performs much better than the others"
   ]
  },
  {
   "cell_type": "markdown",
   "metadata": {},
   "source": [
    "## HyperParameter Tunning of LinearSVC model\n",
    "\n"
   ]
  },
  {
   "cell_type": "code",
   "execution_count": 36,
   "metadata": {},
   "outputs": [],
   "source": [
    "x_train, x_test, y_train, y_test = train_test_split(features,\n",
    "                                                    labels, \n",
    "                                                    test_size=0.25, \n",
    "                                                    random_state=1)\n",
    "lsvc = LinearSVC(loss='hinge',\n",
    "                  penalty='l2', max_iter = 100)"
   ]
  },
  {
   "cell_type": "code",
   "execution_count": 37,
   "metadata": {},
   "outputs": [
    {
     "name": "stderr",
     "output_type": "stream",
     "text": [
      "C:\\Users\\micah\\miniconda3\\envs\\mlenv\\Lib\\site-packages\\sklearn\\svm\\_classes.py:32: FutureWarning: The default value of `dual` will change from `True` to `'auto'` in 1.5. Set the value of `dual` explicitly to suppress the warning.\n",
      "  warnings.warn(\n",
      "C:\\Users\\micah\\miniconda3\\envs\\mlenv\\Lib\\site-packages\\sklearn\\svm\\_base.py:1242: ConvergenceWarning: Liblinear failed to converge, increase the number of iterations.\n",
      "  warnings.warn(\n"
     ]
    }
   ],
   "source": [
    "lsvc.fit(x_train, y_train)\n",
    "y_pred = lsvc.predict(x_test)"
   ]
  },
  {
   "cell_type": "code",
   "execution_count": 39,
   "metadata": {},
   "outputs": [
    {
     "data": {
      "text/plain": [
       "0.8104"
      ]
     },
     "execution_count": 39,
     "metadata": {},
     "output_type": "execute_result"
    }
   ],
   "source": [
    "lsvc.score(x_test, y_test)"
   ]
  },
  {
   "cell_type": "code",
   "execution_count": 38,
   "metadata": {},
   "outputs": [
    {
     "name": "stdout",
     "output_type": "stream",
     "text": [
      "                                                    precision    recall  f1-score   support\n",
      "\n",
      "                Credit reporting, repair, or other       0.86      0.93      0.89      1205\n",
      "                                          Mortgage       0.82      0.90      0.86       212\n",
      "                                   Debt collection       0.77      0.77      0.77       472\n",
      "                       Credit card or prepaid card       0.71      0.69      0.70       228\n",
      "                       Checking or savings account       0.68      0.73      0.70       128\n",
      "         Payday loan, title loan, or personal loan       1.00      0.10      0.18        30\n",
      "Money transfer, virtual currency, or money service       0.64      0.71      0.67        48\n",
      "                                     Consumer Loan       0.00      0.00      0.00        17\n",
      "                                      Student loan       0.86      0.75      0.80        73\n",
      "                           Bank account or service       0.50      0.06      0.11        32\n",
      "                             Vehicle loan or lease       0.62      0.25      0.36        52\n",
      "                                   Money transfers       0.00      0.00      0.00         2\n",
      "                           Other financial service       0.00      0.00      0.00         1\n",
      "\n",
      "                                          accuracy                           0.81      2500\n",
      "                                         macro avg       0.57      0.45      0.47      2500\n",
      "                                      weighted avg       0.80      0.81      0.80      2500\n",
      "\n"
     ]
    },
    {
     "name": "stderr",
     "output_type": "stream",
     "text": [
      "C:\\Users\\micah\\miniconda3\\envs\\mlenv\\Lib\\site-packages\\sklearn\\metrics\\_classification.py:1469: UndefinedMetricWarning: Precision and F-score are ill-defined and being set to 0.0 in labels with no predicted samples. Use `zero_division` parameter to control this behavior.\n",
      "  _warn_prf(average, modifier, msg_start, len(result))\n",
      "C:\\Users\\micah\\miniconda3\\envs\\mlenv\\Lib\\site-packages\\sklearn\\metrics\\_classification.py:1469: UndefinedMetricWarning: Precision and F-score are ill-defined and being set to 0.0 in labels with no predicted samples. Use `zero_division` parameter to control this behavior.\n",
      "  _warn_prf(average, modifier, msg_start, len(result))\n",
      "C:\\Users\\micah\\miniconda3\\envs\\mlenv\\Lib\\site-packages\\sklearn\\metrics\\_classification.py:1469: UndefinedMetricWarning: Precision and F-score are ill-defined and being set to 0.0 in labels with no predicted samples. Use `zero_division` parameter to control this behavior.\n",
      "  _warn_prf(average, modifier, msg_start, len(result))\n"
     ]
    }
   ],
   "source": [
    "# classification report ;  evaluation metrics for classification based models\n",
    "print(metrics.classification_report(y_test, y_pred, \n",
    "                                    target_names= sample_data['product'].unique()))"
   ]
  },
  {
   "cell_type": "code",
   "execution_count": 45,
   "metadata": {},
   "outputs": [
    {
     "name": "stdout",
     "output_type": "stream",
     "text": [
      "Accuracy: 0.7252\n"
     ]
    }
   ],
   "source": [
    "## KNearestNeigbours\n",
    "from sklearn.neighbors import KNeighborsClassifier\n",
    "neigh = KNeighborsClassifier(n_neighbors=7)\n",
    "neigh.fit(x_train, y_train)\n",
    "accuracy = neigh.score(x_test, y_test)\n",
    "print(\"Accuracy:\", accuracy)"
   ]
  },
  {
   "cell_type": "code",
   "execution_count": 65,
   "metadata": {},
   "outputs": [
    {
     "data": {
      "image/png": "[encoded data removed]",
      "text/plain": [
       "<Figure size 800x800 with 2 Axes>"
      ]
     },
     "metadata": {},
     "output_type": "display_data"
    }
   ],
   "source": [
    "conf_mat = confusion_matrix(y_pred, y_test)\n",
    "fig, ax = plt.subplots(figsize=(8,8))\n",
    "sns.heatmap(conf_mat, annot=True, cmap=\"Blues\", fmt='d',\n",
    "            xticklabels=category_id_data['product'].values, \n",
    "            yticklabels=category_id_data['product'].values);\n",
    "plt.ylabel('Actual');\n",
    "plt.xlabel('Predicted');\n",
    "plt.title(\"CONFUSION MATRIX - LinearSVC\\n\", size=14);"
   ]
  },
  {
   "cell_type": "code",
   "execution_count": 70,
   "metadata": {},
   "outputs": [
    {
     "name": "stderr",
     "output_type": "stream",
     "text": [
      "C:\\Users\\micah\\miniconda3\\envs\\mlenv\\Lib\\site-packages\\sklearn\\svm\\_classes.py:32: FutureWarning: The default value of `dual` will change from `True` to `'auto'` in 1.5. Set the value of `dual` explicitly to suppress the warning.\n",
      "  warnings.warn(\n"
     ]
    }
   ],
   "source": [
    "x_train, x_test, y_train, y_test = train_test_split(x, y, \n",
    "                                                    test_size=0.25,\n",
    "                                                    random_state = 0)\n",
    "\n",
    "tfidf = TfidfVectorizer(sublinear_tf=True, min_df=5,\n",
    "                        ngram_range=(1, 2), \n",
    "                        stop_words='english')\n",
    "\n",
    "fitted_vectorizer = tfidf.fit(x_train)\n",
    "tfidf_vectorizer_vectors = fitted_vectorizer.transform(x_train)\n",
    "\n",
    "model = LinearSVC().fit(tfidf_vectorizer_vectors, y_train)"
   ]
  },
  {
   "cell_type": "code",
   "execution_count": 71,
   "metadata": {},
   "outputs": [
    {
     "name": "stdout",
     "output_type": "stream",
     "text": [
      "['Student loan']\n"
     ]
    }
   ],
   "source": [
    "new_complaint = \"\"\"I have been enrolled back at XXXX XXXX University in the XX/XX/XXXX. Recently, i have been harassed by \\\n",
    "Navient for the last month. I have faxed in paperwork providing them with everything they needed. And yet I am still getting \\\n",
    "phone calls for payments. Furthermore, Navient is now reporting to the credit bureaus that I am late. At this point, \\\n",
    "Navient needs to get their act together to avoid me taking further action. I have been enrolled the entire time and my \\\n",
    "deferment should be valid with my planned graduation date being the XX/XX/XXXX.\"\"\"\n",
    "print(model.predict(fitted_vectorizer.transform([new_complaint])))"
   ]
  },
  {
   "cell_type": "code",
   "execution_count": 73,
   "metadata": {},
   "outputs": [],
   "source": [
    "import joblib\n",
    "\n",
    "#dump our model into a pkl file\n",
    "\n",
    "svcModel = joblib.dump(model, 'linear_svc_model.pkl')\n"
   ]
  },
  {
   "cell_type": "code",
   "execution_count": 79,
   "metadata": {},
   "outputs": [
    {
     "name": "stdout",
     "output_type": "stream",
     "text": [
      "Predictions: ['Checking or savings account']\n"
     ]
    }
   ],
   "source": [
    "# Load the saved model\n",
    "model = joblib.load('linear_svc_model.pkl')\n",
    "\n",
    "# Sample data for testing\n",
    "sample_data =  [\"Hi, I have been banking with Wells Fargo for over a decade. Within the past 2 years, my grandfather started me sending me money in fairly frequent increments. Rather than using a new age, free transfer system, he uses old fashion wire transfers because he is over XXXX XXXX XXXX and this is what he prefers. \\n\\nEach time he sends me money, Wells Fargo takes a {$16.00} service fee. Over the past 2 or so years, this has added up to {$490.00} dollars in fees, to run a process with little to no costs to the bank. I asked to have some or all of the funds refunded because these fees are incredibly excessive, but they were unwilling to do so ( they actually were willing to refund some of the money over the phone but then none of the money over email/messages, which shows poor process control and an arbitrary system of refunds ) This feels excessive. They are basically taking money from my grandfather since he is too old to learn how to use new systems. Feels like this matches a pattern that Wells Fargo has exhibited the past few years of taking money from clients in made up fees.\"]\n",
    "\n",
    "# Perform TF-IDF transformation on sample data\n",
    "tfidf_vectorizer_vectors_test = fitted_vectorizer.transform(sample_data)\n",
    "\n",
    "# Make predictions using the loaded model\n",
    "predictions = model.predict(tfidf_vectorizer_vectors_test)\n",
    "\n",
    "# Display predictions\n",
    "print(\"Predictions:\", predictions)\n"
   ]
  },
  {
   "cell_type": "code",
   "execution_count": 77,
   "metadata": {},
   "outputs": [
    {
     "data": {
      "text/plain": [
       "'Hi, I have been banking with Wells Fargo for over a decade. Within the past 2 years, my grandfather started me sending me money in fairly frequent increments. Rather than using a new age, free transfer system, he uses old fashion wire transfers because he is over XXXX XXXX XXXX and this is what he prefers. \\n\\nEach time he sends me money, Wells Fargo takes a {$16.00} service fee. Over the past 2 or so years, this has added up to {$490.00} dollars in fees, to run a process with little to no costs to the bank. I asked to have some or all of the funds refunded because these fees are incredibly excessive, but they were unwilling to do so ( they actually were willing to refund some of the money over the phone but then none of the money over email/messages, which shows poor process control and an arbitrary system of refunds ) This feels excessive. They are basically taking money from my grandfather since he is too old to learn how to use new systems. Feels like this matches a pattern that Wells Fargo has exhibited the past few years of taking money from clients in made up fees.'"
      ]
     },
     "execution_count": 77,
     "metadata": {},
     "output_type": "execute_result"
    }
   ],
   "source": [
    "x[3]\n"
   ]
  },
  {
   "cell_type": "code",
   "execution_count": 80,
   "metadata": {},
   "outputs": [
    {
     "data": {
      "text/plain": [
       "'Checking or savings account'"
      ]
     },
     "execution_count": 80,
     "metadata": {},
     "output_type": "execute_result"
    }
   ],
   "source": [
    "y[3]"
   ]
  },
  {
   "cell_type": "code",
   "execution_count": null,
   "metadata": {},
   "outputs": [],
   "source": []
  }
 ],
 "metadata": {
  "colab": {
   "provenance": []
  },
  "kernelspec": {
   "display_name": "Python 3 (ipykernel)",
   "language": "python",
   "name": "python3"
  },
  "language_info": {
   "codemirror_mode": {
    "name": "ipython",
    "version": 3
   },
   "file_extension": ".py",
   "mimetype": "text/x-python",
   "name": "python",
   "nbconvert_exporter": "python",
   "pygments_lexer": "ipython3",
   "version": "3.12.2"
  }
 },
 "nbformat": 4,
 "nbformat_minor": 4
}
